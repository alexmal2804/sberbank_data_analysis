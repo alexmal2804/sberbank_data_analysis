{
 "cells": [
  {
   "cell_type": "markdown",
   "metadata": {},
   "source": [
    "### Курсовая работа Малютина Алексея\n",
    "\n",
    "Сервисная компания, обслуживает оборудование в удаленных пунктах присутствия компании. В рамках услуги осуществляются выезды специалистов сервисной компании, доставка оборудования и его замена, которая производится со складов и точек присутствия поставщика. По договору стоимость услуги включает транспортные расходы и поставщик предоставил таблицу расстояний от своих складов до пунктов присутствия. В таблице три поля: адрес обслуживаемого подразделения, адрес склада поставщика и расстояние между двумя точками. Необходимо проверить актуальность и корректность полученных данных. Для этого необходимо независимо определить расстояние и сравнить с представленным. \n",
    "\n",
    "Т.к. задача разовая, однако объем данных довольно большой, то использование API сервисов карт нецелесообразно. Для решения задачи планируется осуществлить парсинг расстояний по дорогам по картам одного из сервисов, а затем сохранить полученные расстояния в датасет, чтобы сравнить с представленными. Для парсинга будем использовать Selenium with Python. "
   ]
  },
  {
   "cell_type": "code",
   "execution_count": 28,
   "metadata": {
    "scrolled": true
   },
   "outputs": [],
   "source": [
    "from selenium import webdriver\n",
    "import pandas as pd\n",
    "import numpy as np\n",
    "from selenium.webdriver.common.keys import Keys\n",
    "from selenium.webdriver import ActionChains\n",
    "from selenium.webdriver import Firefox\n",
    "from selenium.webdriver.firefox.firefox_binary import FirefoxBinary\n",
    "from selenium.webdriver.firefox.options import Options\n",
    "from selenium.common import exceptions\n",
    "import time\n",
    "import warnings\n",
    "warnings.filterwarnings(\"ignore\")"
   ]
  },
  {
   "cell_type": "code",
   "execution_count": 29,
   "metadata": {
    "scrolled": true
   },
   "outputs": [],
   "source": [
    "dt = pd.read_csv('distance_2_1.csv', delimiter=';')\n",
    "dt.addr3 = dt.addr3.str.replace('Республика','')\n",
    "dt['Distance1'] = 0"
   ]
  },
  {
   "cell_type": "code",
   "execution_count": 30,
   "metadata": {
    "scrolled": false
   },
   "outputs": [
    {
     "data": {
      "text/html": [
       "<div>\n",
       "<style scoped>\n",
       "    .dataframe tbody tr th:only-of-type {\n",
       "        vertical-align: middle;\n",
       "    }\n",
       "\n",
       "    .dataframe tbody tr th {\n",
       "        vertical-align: top;\n",
       "    }\n",
       "\n",
       "    .dataframe thead th {\n",
       "        text-align: right;\n",
       "    }\n",
       "</style>\n",
       "<table border=\"1\" class=\"dataframe\">\n",
       "  <thead>\n",
       "    <tr style=\"text-align: right;\">\n",
       "      <th></th>\n",
       "      <th>addr1</th>\n",
       "      <th>addr3</th>\n",
       "      <th>distance</th>\n",
       "      <th>Distance1</th>\n",
       "    </tr>\n",
       "  </thead>\n",
       "  <tbody>\n",
       "    <tr>\n",
       "      <th>0</th>\n",
       "      <td>Мордовия с.Старое Шайгово, ул.Ленина, 7</td>\n",
       "      <td>Мордовия, г. Саранск, ул. Советская, 109</td>\n",
       "      <td>62.0</td>\n",
       "      <td>0</td>\n",
       "    </tr>\n",
       "    <tr>\n",
       "      <th>1</th>\n",
       "      <td>Мордовия г.Инсар, ул.Московская, 91Б</td>\n",
       "      <td>Мордовия, г. Саранск, ул. Советская, 109</td>\n",
       "      <td>74.0</td>\n",
       "      <td>0</td>\n",
       "    </tr>\n",
       "    <tr>\n",
       "      <th>2</th>\n",
       "      <td>Мордовия пгт.Кадошкино, ул.Крупской, 1</td>\n",
       "      <td>Мордовия, г. Саранск, ул. Советская, 109</td>\n",
       "      <td>74.0</td>\n",
       "      <td>0</td>\n",
       "    </tr>\n",
       "    <tr>\n",
       "      <th>3</th>\n",
       "      <td>Мордовия с.Лямбирь, ул.Ленина, 40</td>\n",
       "      <td>Мордовия, г. Саранск, ул. Советская, 109</td>\n",
       "      <td>15.0</td>\n",
       "      <td>0</td>\n",
       "    </tr>\n",
       "    <tr>\n",
       "      <th>4</th>\n",
       "      <td>Мордовия с.Ельники, площадь 1 Мая, 35</td>\n",
       "      <td>Мордовия, г. Краснослободск, ул. Интернационал...</td>\n",
       "      <td>32.0</td>\n",
       "      <td>0</td>\n",
       "    </tr>\n",
       "  </tbody>\n",
       "</table>\n",
       "</div>"
      ],
      "text/plain": [
       "                                     addr1  \\\n",
       "0  Мордовия с.Старое Шайгово, ул.Ленина, 7   \n",
       "1     Мордовия г.Инсар, ул.Московская, 91Б   \n",
       "2   Мордовия пгт.Кадошкино, ул.Крупской, 1   \n",
       "3        Мордовия с.Лямбирь, ул.Ленина, 40   \n",
       "4    Мордовия с.Ельники, площадь 1 Мая, 35   \n",
       "\n",
       "                                               addr3  distance  Distance1  \n",
       "0           Мордовия, г. Саранск, ул. Советская, 109      62.0          0  \n",
       "1           Мордовия, г. Саранск, ул. Советская, 109      74.0          0  \n",
       "2           Мордовия, г. Саранск, ул. Советская, 109      74.0          0  \n",
       "3           Мордовия, г. Саранск, ул. Советская, 109      15.0          0  \n",
       "4  Мордовия, г. Краснослободск, ул. Интернационал...      32.0          0  "
      ]
     },
     "execution_count": 30,
     "metadata": {},
     "output_type": "execute_result"
    }
   ],
   "source": [
    "dt.head()"
   ]
  },
  {
   "cell_type": "code",
   "execution_count": 33,
   "metadata": {},
   "outputs": [],
   "source": [
    "# Преобразуем строку в вещ. число\n",
    "def str_to_num(str):\n",
    "    if '.' in str and str.replace('.', '').isdigit():\n",
    "        return float(str)\n",
    "    elif str.isdigit():\n",
    "        return float(str)\n",
    "    else:\n",
    "        return 0.0"
   ]
  },
  {
   "cell_type": "code",
   "execution_count": 50,
   "metadata": {
    "code_folding": [],
    "scrolled": true
   },
   "outputs": [],
   "source": [
    "# Заполним адреса на форме и отправим ее. Полученное расстояние сохраним в датасет\n",
    "def calc_distance(dt_in, delay, tbr=0):\n",
    "    dt = dt_in.copy()\n",
    "    t1 = time.time()\n",
    "    if tbr == 0:\n",
    "        browser = webdriver.Safari()\n",
    "    elif tbr == 1:\n",
    "        browser = webdriver.Chrome(executable_path=r\"D:\\Alexey\\project\\chromedriver.exe\")\n",
    "    elif tbr == 2:\n",
    "        browser=webdriver.Firefox(executable_path=r\"D:\\Alexey\\project\\geckodriver.exe\")\n",
    "    browser.get(\"https://yandex.ru/maps\")\n",
    "    distance = browser.find_element_by_class_name(\"route-control\")\n",
    "    distance.click()\n",
    "    time.sleep(2)\n",
    "    count_record = 0\n",
    "    count_except = 0\n",
    "    for i in range(0, len(dt)):\n",
    "        if dt['Distance1'][i] == 0 or dt['Distance1'][i] == np.nan: \n",
    "            try:\n",
    "                field_from = browser.find_element_by_xpath(\"//input[@placeholder='Откуда']\")\n",
    "                time.sleep(delay)\n",
    "                field_from.send_keys(Keys.COMMAND + \"a\")\n",
    "                time.sleep(delay)\n",
    "                field_from.send_keys(Keys.DELETE)\n",
    "                time.sleep(delay)\n",
    "                field_from.send_keys(dt['addr3'][i])\n",
    "                time.sleep(delay)\n",
    "                field_from.send_keys(Keys.DOWN)\n",
    "                time.sleep(delay)\n",
    "                field_from.send_keys(Keys.ENTER)\n",
    "                time.sleep(delay)\n",
    "                field_to = browser.find_element_by_xpath(\"//input[@placeholder='Куда']\")\n",
    "                time.sleep(delay)\n",
    "                field_to.send_keys(Keys.COMMAND + \"a\")\n",
    "                time.sleep(delay)\n",
    "                field_to.send_keys(Keys.DELETE)\n",
    "                time.sleep(delay)\n",
    "                field_to.send_keys(dt['addr1'][i])\n",
    "                time.sleep(delay)\n",
    "                field_to.send_keys(Keys.DOWN)\n",
    "                time.sleep(delay)\n",
    "                field_to.send_keys(Keys.ENTER)\n",
    "                time.sleep(delay)\n",
    "                dist_km = ''\n",
    "                for element in browser.find_elements_by_xpath(\"//*[contains(text(), 'км')]\"):\n",
    "                    dist_km += '' + element.text\n",
    "                # print(dist_km.split('км')[1])\n",
    "                rasst = dist_km.split('км')[1].replace('\\xa0', '')\n",
    "                rasst = rasst.replace(',','.')\n",
    "                # print(rasst, end='\\t')\n",
    "                dt['Distance1'][i] = str_to_num(rasst)\n",
    "                # print(dt['Distance1'][i])\n",
    "                count_record += 1\n",
    "                t2 = time.time()\n",
    "                if i % 100 == 0: \n",
    "                    t = t2 - t1\n",
    "                    print(f'{count_record} записей обработано')\n",
    "                    print(f'{count_except} ошибок возникло')\n",
    "                    print(f'Время обработки - {t:8.2f} c.')\n",
    "            except (exceptions.StaleElementReferenceException, exceptions.NoSuchElementException):\n",
    "                count_except += 1\n",
    "                pass\n",
    "    browser.close()\n",
    "    t2 = time.time()\n",
    "    t = t2 - t1\n",
    "    print(f'Всего {count_record} записей обработано')\n",
    "    print(f'Всего {count_except} ошибок возникло')\n",
    "    print(f'Общее время обработки - {t:8.2f} c.')\n",
    "    print('\\n')\n",
    "    return dt\n",
    "\n"
   ]
  },
  {
   "cell_type": "code",
   "execution_count": 51,
   "metadata": {},
   "outputs": [
    {
     "name": "stdout",
     "output_type": "stream",
     "text": [
      "58 \n",
      "58\t58\n",
      "1 записей обработано\n",
      "0 ошибок возникло\n",
      "Время обработки -    13.76 c.\n",
      "74 \n",
      "74\t74\n",
      "74 \n",
      "74\t74\n",
      "16 \n",
      "16\t16\n",
      "31 \n",
      "31\t31\n",
      "Всего 5 записей обработано\n",
      "Всего 0 ошибок возникло\n",
      "Общее время обработки -    44.70 c.\n",
      "\n",
      "\n"
     ]
    }
   ],
   "source": [
    "# Парсим расстояния по дорогам\n",
    "dt_out =  calc_distance(dt[:30], 0.5, 0)"
   ]
  },
  {
   "cell_type": "code",
   "execution_count": 52,
   "metadata": {},
   "outputs": [
    {
     "data": {
      "text/plain": [
       "addr1        0\n",
       "addr3        0\n",
       "distance     0\n",
       "Distance1    0\n",
       "dtype: int64"
      ]
     },
     "execution_count": 52,
     "metadata": {},
     "output_type": "execute_result"
    }
   ],
   "source": [
    "# Проверяем кол-во записей с разницей расстояний более 100 км (вероятно, ошибка расчета расстояния или парсинга)\n",
    "dt_out[abs(dt_out['Distance1'].astype(float) - dt_out['distance'].astype(float)) > 100].count()"
   ]
  },
  {
   "cell_type": "code",
   "execution_count": 53,
   "metadata": {},
   "outputs": [],
   "source": [
    "# Устанавливаем для записей с разницей заявленного и рассчитанного растояние более 100 км значение 0\n",
    "# После этого, в случае необходимости, выполняем ячейук парсинга расстояния, увеличив время между нажатиями клавиш\n",
    "dt_out[abs(dt_out['Distance1'].astype(float) - dt_out['distance'].astype(float)) > 100]['Distance1'] = 0.0"
   ]
  },
  {
   "cell_type": "code",
   "execution_count": 54,
   "metadata": {
    "scrolled": false
   },
   "outputs": [
    {
     "name": "stdout",
     "output_type": "stream",
     "text": [
      "Всего 0 записей обработано\n",
      "Всего 0 ошибок возникло\n",
      "Общее время обработки -     6.31 c.\n",
      "\n",
      "\n"
     ]
    }
   ],
   "source": [
    "# Повторно парсим расстояния по дорогам, увеличив время между нажатиями клавиш\n",
    "dt_out =  calc_distance(dt_out[:30], 1, 0)"
   ]
  },
  {
   "cell_type": "code",
   "execution_count": 55,
   "metadata": {},
   "outputs": [
    {
     "data": {
      "text/html": [
       "<div>\n",
       "<style scoped>\n",
       "    .dataframe tbody tr th:only-of-type {\n",
       "        vertical-align: middle;\n",
       "    }\n",
       "\n",
       "    .dataframe tbody tr th {\n",
       "        vertical-align: top;\n",
       "    }\n",
       "\n",
       "    .dataframe thead th {\n",
       "        text-align: right;\n",
       "    }\n",
       "</style>\n",
       "<table border=\"1\" class=\"dataframe\">\n",
       "  <thead>\n",
       "    <tr style=\"text-align: right;\">\n",
       "      <th></th>\n",
       "      <th>addr1</th>\n",
       "      <th>addr3</th>\n",
       "      <th>distance</th>\n",
       "      <th>Distance1</th>\n",
       "    </tr>\n",
       "  </thead>\n",
       "  <tbody>\n",
       "    <tr>\n",
       "      <th>0</th>\n",
       "      <td>Мордовия с.Старое Шайгово, ул.Ленина, 7</td>\n",
       "      <td>Мордовия, г. Саранск, ул. Советская, 109</td>\n",
       "      <td>62.0</td>\n",
       "      <td>58</td>\n",
       "    </tr>\n",
       "    <tr>\n",
       "      <th>1</th>\n",
       "      <td>Мордовия г.Инсар, ул.Московская, 91Б</td>\n",
       "      <td>Мордовия, г. Саранск, ул. Советская, 109</td>\n",
       "      <td>74.0</td>\n",
       "      <td>74</td>\n",
       "    </tr>\n",
       "    <tr>\n",
       "      <th>2</th>\n",
       "      <td>Мордовия пгт.Кадошкино, ул.Крупской, 1</td>\n",
       "      <td>Мордовия, г. Саранск, ул. Советская, 109</td>\n",
       "      <td>74.0</td>\n",
       "      <td>74</td>\n",
       "    </tr>\n",
       "    <tr>\n",
       "      <th>3</th>\n",
       "      <td>Мордовия с.Лямбирь, ул.Ленина, 40</td>\n",
       "      <td>Мордовия, г. Саранск, ул. Советская, 109</td>\n",
       "      <td>15.0</td>\n",
       "      <td>16</td>\n",
       "    </tr>\n",
       "    <tr>\n",
       "      <th>4</th>\n",
       "      <td>Мордовия с.Ельники, площадь 1 Мая, 35</td>\n",
       "      <td>Мордовия, г. Краснослободск, ул. Интернационал...</td>\n",
       "      <td>32.0</td>\n",
       "      <td>31</td>\n",
       "    </tr>\n",
       "  </tbody>\n",
       "</table>\n",
       "</div>"
      ],
      "text/plain": [
       "                                     addr1  \\\n",
       "0  Мордовия с.Старое Шайгово, ул.Ленина, 7   \n",
       "1     Мордовия г.Инсар, ул.Московская, 91Б   \n",
       "2   Мордовия пгт.Кадошкино, ул.Крупской, 1   \n",
       "3        Мордовия с.Лямбирь, ул.Ленина, 40   \n",
       "4    Мордовия с.Ельники, площадь 1 Мая, 35   \n",
       "\n",
       "                                               addr3  distance  Distance1  \n",
       "0           Мордовия, г. Саранск, ул. Советская, 109      62.0         58  \n",
       "1           Мордовия, г. Саранск, ул. Советская, 109      74.0         74  \n",
       "2           Мордовия, г. Саранск, ул. Советская, 109      74.0         74  \n",
       "3           Мордовия, г. Саранск, ул. Советская, 109      15.0         16  \n",
       "4  Мордовия, г. Краснослободск, ул. Интернационал...      32.0         31  "
      ]
     },
     "execution_count": 55,
     "metadata": {},
     "output_type": "execute_result"
    }
   ],
   "source": [
    "dt_out"
   ]
  },
  {
   "cell_type": "code",
   "execution_count": 57,
   "metadata": {},
   "outputs": [
    {
     "data": {
      "text/html": [
       "<div>\n",
       "<style scoped>\n",
       "    .dataframe tbody tr th:only-of-type {\n",
       "        vertical-align: middle;\n",
       "    }\n",
       "\n",
       "    .dataframe tbody tr th {\n",
       "        vertical-align: top;\n",
       "    }\n",
       "\n",
       "    .dataframe thead th {\n",
       "        text-align: right;\n",
       "    }\n",
       "</style>\n",
       "<table border=\"1\" class=\"dataframe\">\n",
       "  <thead>\n",
       "    <tr style=\"text-align: right;\">\n",
       "      <th></th>\n",
       "      <th>addr1</th>\n",
       "      <th>addr3</th>\n",
       "      <th>distance</th>\n",
       "    </tr>\n",
       "    <tr>\n",
       "      <th>Distance1</th>\n",
       "      <th></th>\n",
       "      <th></th>\n",
       "      <th></th>\n",
       "    </tr>\n",
       "  </thead>\n",
       "  <tbody>\n",
       "  </tbody>\n",
       "</table>\n",
       "</div>"
      ],
      "text/plain": [
       "Empty DataFrame\n",
       "Columns: [addr1, addr3, distance]\n",
       "Index: []"
      ]
     },
     "execution_count": 57,
     "metadata": {},
     "output_type": "execute_result"
    }
   ],
   "source": [
    "# Число записей, для которых не удалось определить расстояние\n",
    "dt_out[dt_out['Distance1'] == 0].groupby(['Distance1']).count()"
   ]
  },
  {
   "cell_type": "code",
   "execution_count": null,
   "metadata": {},
   "outputs": [],
   "source": [
    "# Находим разницу в исходном и полученном расстоянии. \n",
    "# Если разность > 0, то у поставшика услуг заявлено большее расстояние, чем полученное в ходе парсинга\n",
    "dt_out['Diff'] = dt_out['distance'] - dt_out['Distance1']"
   ]
  },
  {
   "cell_type": "code",
   "execution_count": 58,
   "metadata": {},
   "outputs": [],
   "source": [
    "# Создаем дополненный расстояниями файл\n",
    "path = \"distance_3_1.csv\"\n",
    "dt_out.to_csv(path)"
   ]
  }
 ],
 "metadata": {
  "hide_input": false,
  "kernelspec": {
   "display_name": "Python 3",
   "language": "python",
   "name": "python3"
  },
  "language_info": {
   "codemirror_mode": {
    "name": "ipython",
    "version": 3
   },
   "file_extension": ".py",
   "mimetype": "text/x-python",
   "name": "python",
   "nbconvert_exporter": "python",
   "pygments_lexer": "ipython3",
   "version": "3.8.5"
  },
  "toc": {
   "base_numbering": 1,
   "nav_menu": {},
   "number_sections": true,
   "sideBar": true,
   "skip_h1_title": false,
   "title_cell": "Table of Contents",
   "title_sidebar": "Contents",
   "toc_cell": false,
   "toc_position": {},
   "toc_section_display": true,
   "toc_window_display": false
  },
  "varInspector": {
   "cols": {
    "lenName": 16,
    "lenType": 16,
    "lenVar": 40
   },
   "kernels_config": {
    "python": {
     "delete_cmd_postfix": "",
     "delete_cmd_prefix": "del ",
     "library": "var_list.py",
     "varRefreshCmd": "print(var_dic_list())"
    },
    "r": {
     "delete_cmd_postfix": ") ",
     "delete_cmd_prefix": "rm(",
     "library": "var_list.r",
     "varRefreshCmd": "cat(var_dic_list()) "
    }
   },
   "types_to_exclude": [
    "module",
    "function",
    "builtin_function_or_method",
    "instance",
    "_Feature"
   ],
   "window_display": false
  }
 },
 "nbformat": 4,
 "nbformat_minor": 4
}
